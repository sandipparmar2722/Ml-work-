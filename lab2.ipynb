{
 "cells": [
  {
   "cell_type": "code",
   "execution_count": 1,
   "id": "4a06af7c",
   "metadata": {},
   "outputs": [],
   "source": [
    "import numpy as np"
   ]
  },
  {
   "cell_type": "code",
   "execution_count": 2,
   "id": "d8e284df",
   "metadata": {},
   "outputs": [
    {
     "name": "stdout",
     "output_type": "stream",
     "text": [
      "[1, 2, 3, 4, 5, 6]\n"
     ]
    }
   ],
   "source": [
    "a=[1,2,3,4,5,6]\n",
    "print(a)"
   ]
  },
  {
   "cell_type": "code",
   "execution_count": null,
   "id": "31fb8dd7",
   "metadata": {},
   "outputs": [],
   "source": []
  },
  {
   "cell_type": "code",
   "execution_count": 10,
   "id": "4e7594c8",
   "metadata": {},
   "outputs": [
    {
     "name": "stdout",
     "output_type": "stream",
     "text": [
      "[[ 6  8]\n",
      " [10 12]]\n"
     ]
    }
   ],
   "source": [
    "add=np.add(a,b)\n",
    "print(add)"
   ]
  },
  {
   "cell_type": "code",
   "execution_count": 11,
   "id": "c94eecfb",
   "metadata": {},
   "outputs": [
    {
     "name": "stdout",
     "output_type": "stream",
     "text": [
      "[1 2 3 4 5 6]\n",
      "[[9 8 7]\n",
      " [6 5 4]]\n"
     ]
    }
   ],
   "source": [
    "a=np.array([1,2,3,4,5,6])\n",
    "b=np.array([[9,8,7],[6,5,4]])\n",
    "print(a)\n",
    "print(b)"
   ]
  },
  {
   "cell_type": "code",
   "execution_count": 12,
   "id": "289273ac",
   "metadata": {},
   "outputs": [
    {
     "name": "stdout",
     "output_type": "stream",
     "text": [
      "[3 4 5 6]\n"
     ]
    }
   ],
   "source": [
    "sliced=a[2:]\n",
    "print(sliced)"
   ]
  },
  {
   "cell_type": "code",
   "execution_count": 13,
   "id": "81f1c495",
   "metadata": {},
   "outputs": [
    {
     "name": "stdout",
     "output_type": "stream",
     "text": [
      "21\n",
      "39\n"
     ]
    }
   ],
   "source": [
    "print(a.sum())\n",
    "print(b.sum())\n",
    "\n"
   ]
  },
  {
   "cell_type": "code",
   "execution_count": 14,
   "id": "2b4cd248",
   "metadata": {},
   "outputs": [
    {
     "name": "stdout",
     "output_type": "stream",
     "text": [
      "[[1 2]\n",
      " [3 4]]\n",
      "[[5 6]\n",
      " [7 8]]\n",
      "[[19 22]\n",
      " [43 50]]\n"
     ]
    }
   ],
   "source": [
    "import numpy as np\n",
    "a=np.array([[1,2],[3,4]])\n",
    "b=np.array([[5,6],[7,8]])\n",
    "print(a)\n",
    "print(b)\n",
    "mul=np.dot(a,b)\n",
    "print(mul)\n",
    "mulm=np.multiply(a,b)"
   ]
  },
  {
   "cell_type": "code",
   "execution_count": 16,
   "id": "3f280916",
   "metadata": {},
   "outputs": [
    {
     "name": "stdout",
     "output_type": "stream",
     "text": [
      "[[-4 -4]\n",
      " [-4 -4]]\n"
     ]
    }
   ],
   "source": [
    "subm=np.subtract(a,b)\n",
    "print(subm)"
   ]
  },
  {
   "cell_type": "code",
   "execution_count": 17,
   "id": "3fa0c095",
   "metadata": {},
   "outputs": [
    {
     "name": "stdout",
     "output_type": "stream",
     "text": [
      "[1 2 3 4 5 6 7 8 9]\n",
      "[[1 2 3]\n",
      " [4 5 6]\n",
      " [7 8 9]]\n"
     ]
    }
   ],
   "source": [
    "m3=np.array([1,2,3,4,5,6,7,8,9])\n",
    "print(m3)\n",
    "re=m3.reshape(3,3)\n",
    "print(re)"
   ]
  },
  {
   "cell_type": "code",
   "execution_count": 21,
   "id": "3ddd466f",
   "metadata": {},
   "outputs": [
    {
     "name": "stdout",
     "output_type": "stream",
     "text": [
      "maximum 3 is  9\n",
      "minimum m3 is 1\n",
      "max row is  [3 6 9]\n",
      "max in col is [1 2 3]\n"
     ]
    }
   ],
   "source": [
    "print(\"maximum 3 is \",m3.max())\n",
    "print(\"minimum m3 is\",m3.min())\n",
    "print(\"max row is \",re.max(axis=1))\n",
    "print(\"max in col is\",re.min(axis=0))"
   ]
  },
  {
   "cell_type": "code",
   "execution_count": 25,
   "id": "801d19b6",
   "metadata": {},
   "outputs": [
    {
     "name": "stdout",
     "output_type": "stream",
     "text": [
      "[[ 4  9 25]\n",
      " [36 49 64]]\n",
      "[[2. 3. 5.]\n",
      " [6. 7. 8.]]\n",
      "standered devision : 21.16141667175323\n"
     ]
    }
   ],
   "source": [
    "m4=np.array([[4,9,25],[36,49,64]])\n",
    "print(m4)\n",
    "print(np.sqrt(m4))\n",
    "print('standered devision :',np.std(m4))"
   ]
  },
  {
   "cell_type": "code",
   "execution_count": 31,
   "id": "44c5d7a6",
   "metadata": {},
   "outputs": [
    {
     "name": "stdout",
     "output_type": "stream",
     "text": [
      "[[1 2]\n",
      " [3 4]\n",
      " [5 6]\n",
      " [7 8]]\n",
      "[[1 2 5 6]\n",
      " [3 4 7 8]]\n"
     ]
    }
   ],
   "source": [
    "v=np.vstack((a,b))\n",
    "print(v)\n",
    "h=np.hstack((a,b))\n",
    "print(h)"
   ]
  },
  {
   "cell_type": "code",
   "execution_count": 42,
   "id": "c4954da3",
   "metadata": {},
   "outputs": [
    {
     "name": "stdout",
     "output_type": "stream",
     "text": [
      "[ 0  2  4  6  8 10 12 14 16 18]\n",
      "data type: int64\n",
      "data type: float64\n"
     ]
    }
   ],
   "source": [
    "arr=np.arange(0,20,2,int)\n",
    "arr2=np.arange(0,20,2,float)\n",
    "print(arr)\n",
    "print('data type:',arr.dtype)\n",
    "print('data type:',arr2.dtype)"
   ]
  },
  {
   "cell_type": "code",
   "execution_count": 47,
   "id": "7da21d7f",
   "metadata": {},
   "outputs": [
    {
     "name": "stdout",
     "output_type": "stream",
     "text": [
      "[ 0.  5. 10. 15. 20.]\n",
      "float64\n"
     ]
    }
   ],
   "source": [
    "arr3=np.linspace(0,20,5)\n",
    "print(arr3)\n",
    "print(arr3.dtype)"
   ]
  },
  {
   "cell_type": "code",
   "execution_count": 48,
   "id": "0a99461f",
   "metadata": {},
   "outputs": [
    {
     "name": "stdout",
     "output_type": "stream",
     "text": [
      "[[1 3]\n",
      " [2 4]\n",
      " [5 7]\n",
      " [6 8]]\n"
     ]
    }
   ],
   "source": [
    "ht=h.T\n",
    "print(ht)"
   ]
  },
  {
   "cell_type": "code",
   "execution_count": 49,
   "id": "f0bdf42b",
   "metadata": {},
   "outputs": [
    {
     "name": "stdout",
     "output_type": "stream",
     "text": [
      "1\n",
      "2\n",
      "5\n",
      "6\n",
      "3\n",
      "4\n",
      "7\n",
      "8\n"
     ]
    }
   ],
   "source": [
    "for i in np.nditer(ht):\n",
    "    print(i)"
   ]
  },
  {
   "cell_type": "code",
   "execution_count": null,
   "id": "84a1f1cf",
   "metadata": {},
   "outputs": [],
   "source": []
  },
  {
   "cell_type": "code",
   "execution_count": null,
   "id": "266bac84",
   "metadata": {},
   "outputs": [],
   "source": []
  }
 ],
 "metadata": {
  "kernelspec": {
   "display_name": "Python 3 (ipykernel)",
   "language": "python",
   "name": "python3"
  },
  "language_info": {
   "codemirror_mode": {
    "name": "ipython",
    "version": 3
   },
   "file_extension": ".py",
   "mimetype": "text/x-python",
   "name": "python",
   "nbconvert_exporter": "python",
   "pygments_lexer": "ipython3",
   "version": "3.9.12"
  }
 },
 "nbformat": 4,
 "nbformat_minor": 5
}
