{
 "cells": [
  {
   "cell_type": "code",
   "execution_count": 114,
   "id": "22706ade",
   "metadata": {},
   "outputs": [],
   "source": [
    "import pandas as pd \n",
    "import numpy as np\n",
    "import matplotlib.pyplot as plt\n",
    "import seaborn as sns"
   ]
  },
  {
   "cell_type": "code",
   "execution_count": 115,
   "id": "b3685cb5",
   "metadata": {},
   "outputs": [
    {
     "name": "stdout",
     "output_type": "stream",
     "text": [
      "   sepal.length  sepal.width  petal.length  petal.width variety\n",
      "0           5.1          3.5           1.4          0.2  Setosa\n",
      "1           4.9          3.0           1.4          0.2  Setosa\n",
      "2           4.7          3.2           1.3          0.2  Setosa\n",
      "3           4.6          3.1           1.5          0.2  Setosa\n",
      "4           5.0          3.6           1.4          0.2  Setosa\n"
     ]
    }
   ],
   "source": [
    "data=pd.read_csv('iris.csv')\n",
    "print(data.head())"
   ]
  },
  {
   "cell_type": "code",
   "execution_count": 116,
   "id": "0eb18e71",
   "metadata": {},
   "outputs": [
    {
     "data": {
      "image/png": "[encoded data removed]",
      "text/plain": [
       "<Figure size 432x288 with 1 Axes>"
      ]
     },
     "metadata": {
      "needs_background": "light"
     },
     "output_type": "display_data"
    }
   ],
   "source": [
    "a=data['sepal.length']\n",
    "b=data['sepal.width']\n",
    "plt.scatter(a,b,color='red')\n",
    "c=data['petal.length']\n",
    "d=data['petal.width']\n",
    "plt.scatter(c,d,color='green')\n",
    "plt.show()"
   ]
  },
  {
   "cell_type": "code",
   "execution_count": 117,
   "id": "0d539466",
   "metadata": {},
   "outputs": [
    {
     "name": "stdout",
     "output_type": "stream",
     "text": [
      "   sepal.length  sepal.width  petal.length  petal.width variety    ans\n",
      "0           5.1          3.5           1.4          0.2  Setosa  17.85\n",
      "1           4.9          3.0           1.4          0.2  Setosa  14.70\n",
      "2           4.7          3.2           1.3          0.2  Setosa  15.04\n",
      "3           4.6          3.1           1.5          0.2  Setosa  14.26\n",
      "4           5.0          3.6           1.4          0.2  Setosa  18.00\n"
     ]
    }
   ],
   "source": [
    "data['ans']=data['sepal.length'] *data['sepal.width']\n",
    "print(data.head())"
   ]
  },
  {
   "cell_type": "code",
   "execution_count": 118,
   "id": "e1dd3ca3",
   "metadata": {},
   "outputs": [
    {
     "name": "stdout",
     "output_type": "stream",
     "text": [
      "4.3\n",
      "7.9\n",
      "5.843333333333335\n",
      "0    5.0\n",
      "Name: sepal.length, dtype: float64\n",
      "0.8280661279778629\n"
     ]
    }
   ],
   "source": [
    "min=data['sepal.length'].min()\n",
    "max=data['sepal.length'].max()\n",
    "mean=data['sepal.length'].mean()\n",
    "median=data['sepal.length'].median()\n",
    "mode=data['sepal.length'].mode()\n",
    "std=data['sepal.length'].std()\n",
    "print(min)\n",
    "print(max)\n",
    "print(mean)\n",
    "print(mode)\n",
    "print(std)"
   ]
  },
  {
   "cell_type": "code",
   "execution_count": 119,
   "id": "074ecec1",
   "metadata": {},
   "outputs": [],
   "source": [
    "\n",
    "\n",
    "x=data[[\"sepal.length\",\"sepal.width\",\"petal.length\",\"petal.width\"]]\n",
    "y=data[\"variety\"]\n",
    "\n",
    "from sklearn.model_selection import train_test_split"
   ]
  },
  {
   "cell_type": "code",
   "execution_count": 120,
   "id": "ee5e8ad1",
   "metadata": {},
   "outputs": [],
   "source": [
    "# made dependent and undependent variable \n",
    "\n",
    "\n",
    "# apply in train test split\n",
    "\n",
    "x_train,x_test,y_train,y_test=train_test_split(x,y,test_size=0.2)"
   ]
  },
  {
   "cell_type": "code",
   "execution_count": 121,
   "id": "24b9e87f",
   "metadata": {},
   "outputs": [
    {
     "name": "stdout",
     "output_type": "stream",
     "text": [
      "test data (30, 4)\n",
      "test data (30,)\n"
     ]
    }
   ],
   "source": [
    "print('test data',x_test.shape)\n",
    "print('test data',y_test.shape)\n",
    "\n"
   ]
  },
  {
   "cell_type": "code",
   "execution_count": 122,
   "id": "5583669c",
   "metadata": {},
   "outputs": [],
   "source": [
    "from sklearn.linear_model import LogisticRegression"
   ]
  },
  {
   "cell_type": "code",
   "execution_count": 123,
   "id": "858b453b",
   "metadata": {
    "scrolled": false
   },
   "outputs": [
    {
     "name": "stderr",
     "output_type": "stream",
     "text": [
      "/opt/anaconda3/lib/python3.9/site-packages/sklearn/linear_model/_logistic.py:814: ConvergenceWarning: lbfgs failed to converge (status=1):\n",
      "STOP: TOTAL NO. of ITERATIONS REACHED LIMIT.\n",
      "\n",
      "Increase the number of iterations (max_iter) or scale the data as shown in:\n",
      "    https://scikit-learn.org/stable/modules/preprocessing.html\n",
      "Please also refer to the documentation for alternative solver options:\n",
      "    https://scikit-learn.org/stable/modules/linear_model.html#logistic-regression\n",
      "  n_iter_i = _check_optimize_result(\n"
     ]
    },
    {
     "data": {
      "text/plain": [
       "LogisticRegression()"
      ]
     },
     "execution_count": 123,
     "metadata": {},
     "output_type": "execute_result"
    }
   ],
   "source": [
    "log=LogisticRegression()\n",
    "log.fit(x_train,y_train)"
   ]
  },
  {
   "cell_type": "code",
   "execution_count": 124,
   "id": "b0859d1c",
   "metadata": {},
   "outputs": [
    {
     "name": "stdout",
     "output_type": "stream",
     "text": [
      "['Setosa' 'Versicolor' 'Setosa' 'Virginica' 'Virginica' 'Virginica'\n",
      " 'Versicolor' 'Virginica' 'Virginica' 'Setosa' 'Virginica' 'Versicolor'\n",
      " 'Versicolor' 'Virginica' 'Setosa' 'Virginica' 'Virginica' 'Virginica'\n",
      " 'Versicolor' 'Versicolor' 'Setosa' 'Versicolor' 'Setosa' 'Setosa'\n",
      " 'Virginica' 'Virginica' 'Setosa' 'Virginica' 'Versicolor' 'Virginica']\n"
     ]
    }
   ],
   "source": [
    "# train this model\n",
    "predict=log.predict(x_test)\n",
    "print(predict)"
   ]
  },
  {
   "cell_type": "code",
   "execution_count": 125,
   "id": "e07d3235",
   "metadata": {},
   "outputs": [],
   "source": [
    "from sklearn.metrics import accuracy_score , precision_score \n",
    "from sklearn.metrics import confusion_matrix"
   ]
  },
  {
   "cell_type": "code",
   "execution_count": 126,
   "id": "d7f20946",
   "metadata": {},
   "outputs": [
    {
     "name": "stdout",
     "output_type": "stream",
     "text": [
      "0.9666666666666667\n"
     ]
    }
   ],
   "source": [
    "accuracy=accuracy_score(y_test,predict)\n",
    "print(accuracy)\n",
    "\n"
   ]
  },
  {
   "cell_type": "code",
   "execution_count": 127,
   "id": "91ed0b04",
   "metadata": {},
   "outputs": [
    {
     "name": "stdout",
     "output_type": "stream",
     "text": [
      "[[ 8  0  0]\n",
      " [ 0  7  0]\n",
      " [ 0  1 14]]\n"
     ]
    }
   ],
   "source": [
    "confusion_matrix=confusion_matrix(y_test,predict)\n",
    "print(confusion_matrix)\n"
   ]
  },
  {
   "cell_type": "code",
   "execution_count": 128,
   "id": "6b51bbaa",
   "metadata": {},
   "outputs": [],
   "source": [
    "from sklearn.neighbors import KNeighborsClassifier"
   ]
  },
  {
   "cell_type": "code",
   "execution_count": 129,
   "id": "e2ad424f",
   "metadata": {},
   "outputs": [
    {
     "data": {
      "text/plain": [
       "KNeighborsClassifier()"
      ]
     },
     "execution_count": 129,
     "metadata": {},
     "output_type": "execute_result"
    }
   ],
   "source": [
    "knn=KNeighborsClassifier(n_neighbors=5)\n",
    "knn.fit(x_train,y_train)"
   ]
  },
  {
   "cell_type": "code",
   "execution_count": 130,
   "id": "f8ebab05",
   "metadata": {},
   "outputs": [
    {
     "name": "stdout",
     "output_type": "stream",
     "text": [
      "['Setosa' 'Versicolor' 'Setosa' 'Virginica' 'Virginica' 'Virginica'\n",
      " 'Versicolor' 'Virginica' 'Virginica' 'Setosa' 'Virginica' 'Versicolor'\n",
      " 'Versicolor' 'Virginica' 'Setosa' 'Virginica' 'Virginica' 'Virginica'\n",
      " 'Versicolor' 'Versicolor' 'Setosa' 'Versicolor' 'Setosa' 'Setosa'\n",
      " 'Virginica' 'Virginica' 'Setosa' 'Virginica' 'Versicolor' 'Virginica']\n"
     ]
    }
   ],
   "source": [
    "predictknn=knn.predict(x_test)\n",
    "print(predictknn)"
   ]
  },
  {
   "cell_type": "code",
   "execution_count": 131,
   "id": "e50ff172",
   "metadata": {},
   "outputs": [
    {
     "data": {
      "text/plain": [
       "0.9666666666666667"
      ]
     },
     "execution_count": 131,
     "metadata": {},
     "output_type": "execute_result"
    }
   ],
   "source": [
    "accuracy_score(y_test,predictknn)"
   ]
  },
  {
   "cell_type": "code",
   "execution_count": 136,
   "id": "12e27808",
   "metadata": {},
   "outputs": [
    {
     "data": {
      "image/png": "[encoded data removed]",
      "text/plain": [
       "<Figure size 432x288 with 1 Axes>"
      ]
     },
     "metadata": {
      "needs_background": "light"
     },
     "output_type": "display_data"
    }
   ],
   "source": [
    "# Calculate accuracies\n",
    "accuracy_log = accuracy_score(y_test, predict)\n",
    "accuracy_knn = accuracy_score(y_test, predictknn)\n",
    "\n",
    "# Plot the accuracies\n",
    "accuracies = [accuracy_log, accuracy_knn]\n",
    "models = ['Logistic Regression', 'KNN Classifier']\n",
    "\n",
    "plt.bar(models, accuracies, color=['red', 'green'])\n",
    "plt.xlabel('Model')\n",
    "plt.ylabel('Accuracy')\n",
    "plt.title('Comparison of Model Accuracies')\n",
    "plt.ylim([0, 1])  # To keep the Y-axis between 0 and 1 for easier comparison\n",
    "plt.show()"
   ]
  },
  {
   "cell_type": "code",
   "execution_count": null,
   "id": "83d8fcfe",
   "metadata": {},
   "outputs": [],
   "source": []
  }
 ],
 "metadata": {
  "kernelspec": {
   "display_name": "Python 3 (ipykernel)",
   "language": "python",
   "name": "python3"
  },
  "language_info": {
   "codemirror_mode": {
    "name": "ipython",
    "version": 3
   },
   "file_extension": ".py",
   "mimetype": "text/x-python",
   "name": "python",
   "nbconvert_exporter": "python",
   "pygments_lexer": "ipython3",
   "version": "3.9.12"
  }
 },
 "nbformat": 4,
 "nbformat_minor": 5
}
