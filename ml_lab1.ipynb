{
 "cells": [
  {
   "cell_type": "code",
   "execution_count": 1,
   "id": "e6912fe5",
   "metadata": {},
   "outputs": [],
   "source": [
    "import numpy as np"
   ]
  },
  {
   "cell_type": "code",
   "execution_count": 2,
   "id": "c989196f",
   "metadata": {},
   "outputs": [
    {
     "name": "stdout",
     "output_type": "stream",
     "text": [
      "[1 2 3 4 5 6 7]\n"
     ]
    }
   ],
   "source": [
    "a=np.array([1,2,3,4,5,6,7])\n",
    "print(a)"
   ]
  },
  {
   "cell_type": "code",
   "execution_count": 5,
   "id": "4f0b719a",
   "metadata": {},
   "outputs": [
    {
     "name": "stdout",
     "output_type": "stream",
     "text": [
      "[[1 2 3]\n",
      " [5 6 7]]\n"
     ]
    }
   ],
   "source": [
    "a=np.array([[1,2,3],[5,6,7]])\n",
    "print(a)"
   ]
  },
  {
   "cell_type": "code",
   "execution_count": 6,
   "id": "f113fbd1",
   "metadata": {},
   "outputs": [
    {
     "name": "stdout",
     "output_type": "stream",
     "text": [
      "[['harshil' 'ayush']\n",
      " ['khushi' 'rutvi']]\n"
     ]
    }
   ],
   "source": [
    "a=np.array([['harshil','ayush'],['khushi','rutvi']])\n",
    "print(a)"
   ]
  },
  {
   "cell_type": "code",
   "execution_count": 7,
   "id": "f468ca65",
   "metadata": {},
   "outputs": [
    {
     "name": "stdout",
     "output_type": "stream",
     "text": [
      "shape of a(2, 2)\n"
     ]
    }
   ],
   "source": [
    "print(\"shape of a{}\".format(a.shape))"
   ]
  },
  {
   "cell_type": "code",
   "execution_count": 8,
   "id": "c6ffe87c",
   "metadata": {},
   "outputs": [
    {
     "name": "stdout",
     "output_type": "stream",
     "text": [
      "ndim 2\n"
     ]
    }
   ],
   "source": [
    "print(\"ndim {}\".format(a.ndim))"
   ]
  },
  {
   "cell_type": "code",
   "execution_count": 11,
   "id": "583ce2ed",
   "metadata": {},
   "outputs": [
    {
     "name": "stdout",
     "output_type": "stream",
     "text": [
      "size 4\n",
      "dtype <U7\n",
      "itemsize 28\n",
      "data <memory at 0x7f45a408b2b0>\n"
     ]
    }
   ],
   "source": [
    "print(\"size {}\".format(a.size))\n",
    "print(f\"dtype {a.dtype}\")\n",
    "print(f\"itemsize {a.itemsize}\")\n",
    "print(f\"data {a.data}\")"
   ]
  },
  {
   "cell_type": "code",
   "execution_count": null,
   "id": "3c598529",
   "metadata": {},
   "outputs": [],
   "source": []
  }
 ],
 "metadata": {
  "kernelspec": {
   "display_name": "Python 3 (ipykernel)",
   "language": "python",
   "name": "python3"
  },
  "language_info": {
   "codemirror_mode": {
    "name": "ipython",
    "version": 3
   },
   "file_extension": ".py",
   "mimetype": "text/x-python",
   "name": "python",
   "nbconvert_exporter": "python",
   "pygments_lexer": "ipython3",
   "version": "3.9.12"
  }
 },
 "nbformat": 4,
 "nbformat_minor": 5
}
