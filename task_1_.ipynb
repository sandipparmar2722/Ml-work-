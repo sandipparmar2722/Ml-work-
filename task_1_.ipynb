{
  "nbformat": 4,
  "nbformat_minor": 0,
  "metadata": {
    "colab": {
      "provenance": []
    },
    "kernelspec": {
      "name": "python3",
      "display_name": "Python 3"
    },
    "language_info": {
      "name": "python"
    }
  },
  "cells": [
    {
      "cell_type": "code",
      "execution_count": null,
      "metadata": {
        "id": "TZ5k27myNr1O"
      },
      "outputs": [],
      "source": [
        "import pandas as pd\n",
        "import numpy as np\n"
      ]
    },
    {
      "cell_type": "code",
      "source": [
        "data=pd.read_csv(\"/content/drive/MyDrive/Ml-work--main/customers.csv\")\n",
        "print(data.head(10))\n"
      ],
      "metadata": {
        "colab": {
          "base_uri": "https://localhost:8080/"
        },
        "id": "yP5lNF-DPJGk",
        "outputId": "56072579-824c-4108-c0d3-c3e1f40163f3"
      },
      "execution_count": null,
      "outputs": [
        {
          "output_type": "stream",
          "name": "stdout",
          "text": [
            "   Index  Customer Id First Name Last Name                          Company  \\\n",
            "0    1.0          1.0     Sheryl    Baxter                  Rasmussen Group   \n",
            "1    2.0          2.0    Preston    Lozano                      Vega-Gentry   \n",
            "2    3.0          3.0        Roy     Berry                    Murillo-Perry   \n",
            "3    4.0          4.0      Linda     Olsen  Dominguez, Mcmillan and Donovan   \n",
            "4    5.0          5.0     Joanna    Bender         Martin, Lang and Andrade   \n",
            "5    6.0          6.0      Aimee     Downs                     Steele Group   \n",
            "6    7.0          7.0     Darren      Peck     Lester, Woodard and Mitchell   \n",
            "7    8.0          8.0      Brett    Mullen     Sanford, Davenport and Giles   \n",
            "8    9.0          9.0     Sheryl    Meyers                   Browning-Simon   \n",
            "9    NaN          NaN        NaN       NaN                              NaN   \n",
            "\n",
            "                City                     Country       Phone 1  \\\n",
            "0       East Leonard                       Chile  6.355806e+09   \n",
            "1  East Jimmychester                    Djibouti  9.904450e+09   \n",
            "2      Isabelborough         Antigua and Barbuda  6.910659e+09   \n",
            "3         Bensonview          Dominican Republic  6.910659e+09   \n",
            "4     West Priscilla  Slovakia (Slovak Republic)  6.910659e+09   \n",
            "5      Chavezborough      Bosnia and Herzegovina  6.910659e+09   \n",
            "6           Lake Ana            Pitcairn Islands  6.910659e+09   \n",
            "7            Kimport                    Bulgaria  6.910659e+09   \n",
            "8       Robersonstad                      Cyprus  6.910659e+09   \n",
            "9                NaN                         NaN           NaN   \n",
            "\n",
            "                         Email Subscription Date                      Website  \\\n",
            "0     zunigavanessa@smith.info        2020-08-24   http://www.stephenson.com/   \n",
            "1              vmata@colon.com        2021-04-23        http://www.hobbs.com/   \n",
            "2          beckycarr@hogan.com        2020-03-25     http://www.lawrence.com/   \n",
            "3  stanleyblackwell@benson.org        2020-06-02   http://www.good-lyons.com/   \n",
            "4      colinalvarado@miles.net        2021-04-17  https://goodwin-ingram.com/   \n",
            "5          louis27@gilbert.com        2020-02-25       http://www.berger.net/   \n",
            "6          tgates@cantrell.com        2021-08-24          https://www.le.com/   \n",
            "7              asnow@colon.com        2021-04-12  https://hammond-ramsey.com/   \n",
            "8                          NaN        2020-01-13     https://www.bullock.net/   \n",
            "9                          NaN               NaN                          NaN   \n",
            "\n",
            "    age  score    salary    balance  \n",
            "0  10.0   12.0  222444.0   122222.0  \n",
            "1  20.0   33.0  750000.0   333333.0  \n",
            "2  40.0   44.0   52512.0   444444.0  \n",
            "3  12.0   55.0  444525.0   555555.0  \n",
            "4  24.0   66.0  445554.0  7777777.0  \n",
            "5  43.0   77.0  555552.0   666666.0  \n",
            "6  45.0   88.0   25555.0   777777.0  \n",
            "7  11.0   33.0  222224.0   777777.0  \n",
            "8  43.0   33.0  555555.0   777777.0  \n",
            "9   NaN    NaN       NaN        NaN  \n"
          ]
        }
      ]
    },
    {
      "cell_type": "code",
      "source": [
        "sorted=data.sort_values(['age'],ascending=0);"
      ],
      "metadata": {
        "id": "zuHzWd8ZQP03"
      },
      "execution_count": null,
      "outputs": []
    },
    {
      "cell_type": "code",
      "source": [
        "print(sorted)"
      ],
      "metadata": {
        "colab": {
          "base_uri": "https://localhost:8080/"
        },
        "id": "FJhXuFsOROkw",
        "outputId": "97ee9a52-077c-4955-e27e-8ba2d2f4f624"
      },
      "execution_count": null,
      "outputs": [
        {
          "output_type": "stream",
          "name": "stdout",
          "text": [
            "    Index  Customer Id First Name Last Name                          Company  \\\n",
            "6     7.0          7.0     Darren      Peck     Lester, Woodard and Mitchell   \n",
            "5     6.0          6.0      Aimee     Downs                     Steele Group   \n",
            "8     9.0          9.0     Sheryl    Meyers                   Browning-Simon   \n",
            "2     3.0          3.0        Roy     Berry                    Murillo-Perry   \n",
            "4     5.0          5.0     Joanna    Bender         Martin, Lang and Andrade   \n",
            "1     2.0          2.0    Preston    Lozano                      Vega-Gentry   \n",
            "3     4.0          4.0      Linda     Olsen  Dominguez, Mcmillan and Donovan   \n",
            "7     8.0          8.0      Brett    Mullen     Sanford, Davenport and Giles   \n",
            "0     1.0          1.0     Sheryl    Baxter                  Rasmussen Group   \n",
            "9     NaN          NaN        NaN       NaN                              NaN   \n",
            "10    NaN          NaN        NaN       NaN                              NaN   \n",
            "11    NaN          NaN        NaN       NaN                              NaN   \n",
            "12    NaN          NaN        NaN       NaN                              NaN   \n",
            "\n",
            "                 City                     Country       Phone 1  \\\n",
            "6            Lake Ana            Pitcairn Islands  6.910659e+09   \n",
            "5       Chavezborough      Bosnia and Herzegovina  6.910659e+09   \n",
            "8        Robersonstad                      Cyprus  6.910659e+09   \n",
            "2       Isabelborough         Antigua and Barbuda  6.910659e+09   \n",
            "4      West Priscilla  Slovakia (Slovak Republic)  6.910659e+09   \n",
            "1   East Jimmychester                    Djibouti  9.904450e+09   \n",
            "3          Bensonview          Dominican Republic  6.910659e+09   \n",
            "7             Kimport                    Bulgaria  6.910659e+09   \n",
            "0        East Leonard                       Chile  6.355806e+09   \n",
            "9                 NaN                         NaN           NaN   \n",
            "10                NaN                         NaN           NaN   \n",
            "11                NaN                         NaN           NaN   \n",
            "12                NaN                         NaN  7.500000e+05   \n",
            "\n",
            "                          Email Subscription Date  \\\n",
            "6           tgates@cantrell.com        2021-08-24   \n",
            "5           louis27@gilbert.com        2020-02-25   \n",
            "8                           NaN        2020-01-13   \n",
            "2           beckycarr@hogan.com        2020-03-25   \n",
            "4       colinalvarado@miles.net        2021-04-17   \n",
            "1               vmata@colon.com        2021-04-23   \n",
            "3   stanleyblackwell@benson.org        2020-06-02   \n",
            "7               asnow@colon.com        2021-04-12   \n",
            "0      zunigavanessa@smith.info        2020-08-24   \n",
            "9                           NaN               NaN   \n",
            "10                          NaN               NaN   \n",
            "11                          NaN               NaN   \n",
            "12                          NaN               NaN   \n",
            "\n",
            "                        Website   age  score    salary    balance  \n",
            "6           https://www.le.com/  45.0   88.0   25555.0   777777.0  \n",
            "5        http://www.berger.net/  43.0   77.0  555552.0   666666.0  \n",
            "8      https://www.bullock.net/  43.0   33.0  555555.0   777777.0  \n",
            "2      http://www.lawrence.com/  40.0   44.0   52512.0   444444.0  \n",
            "4   https://goodwin-ingram.com/  24.0   66.0  445554.0  7777777.0  \n",
            "1         http://www.hobbs.com/  20.0   33.0  750000.0   333333.0  \n",
            "3    http://www.good-lyons.com/  12.0   55.0  444525.0   555555.0  \n",
            "7   https://hammond-ramsey.com/  11.0   33.0  222224.0   777777.0  \n",
            "0    http://www.stephenson.com/  10.0   12.0  222444.0   122222.0  \n",
            "9                           NaN   NaN    NaN       NaN        NaN  \n",
            "10                          NaN   NaN    NaN       NaN        NaN  \n",
            "11                          NaN   NaN    NaN       NaN        NaN  \n",
            "12                          NaN   NaN    NaN       NaN        NaN  \n"
          ]
        }
      ]
    },
    {
      "cell_type": "code",
      "source": [
        "remove=data.dropna()\n"
      ],
      "metadata": {
        "id": "ei2BFROzRQso"
      },
      "execution_count": null,
      "outputs": []
    },
    {
      "cell_type": "code",
      "source": [
        "print(remove)"
      ],
      "metadata": {
        "colab": {
          "base_uri": "https://localhost:8080/"
        },
        "id": "ytgj-p9SSIrw",
        "outputId": "c02d7d13-729c-4f97-ecf3-7ff939686746"
      },
      "execution_count": null,
      "outputs": [
        {
          "output_type": "stream",
          "name": "stdout",
          "text": [
            "   Index  Customer Id First Name Last Name                          Company  \\\n",
            "0    1.0          1.0     Sheryl    Baxter                  Rasmussen Group   \n",
            "1    2.0          2.0    Preston    Lozano                      Vega-Gentry   \n",
            "2    3.0          3.0        Roy     Berry                    Murillo-Perry   \n",
            "3    4.0          4.0      Linda     Olsen  Dominguez, Mcmillan and Donovan   \n",
            "4    5.0          5.0     Joanna    Bender         Martin, Lang and Andrade   \n",
            "5    6.0          6.0      Aimee     Downs                     Steele Group   \n",
            "6    7.0          7.0     Darren      Peck     Lester, Woodard and Mitchell   \n",
            "7    8.0          8.0      Brett    Mullen     Sanford, Davenport and Giles   \n",
            "\n",
            "                City                     Country       Phone 1  \\\n",
            "0       East Leonard                       Chile  6.355806e+09   \n",
            "1  East Jimmychester                    Djibouti  9.904450e+09   \n",
            "2      Isabelborough         Antigua and Barbuda  6.910659e+09   \n",
            "3         Bensonview          Dominican Republic  6.910659e+09   \n",
            "4     West Priscilla  Slovakia (Slovak Republic)  6.910659e+09   \n",
            "5      Chavezborough      Bosnia and Herzegovina  6.910659e+09   \n",
            "6           Lake Ana            Pitcairn Islands  6.910659e+09   \n",
            "7            Kimport                    Bulgaria  6.910659e+09   \n",
            "\n",
            "                         Email Subscription Date                      Website  \\\n",
            "0     zunigavanessa@smith.info        2020-08-24   http://www.stephenson.com/   \n",
            "1              vmata@colon.com        2021-04-23        http://www.hobbs.com/   \n",
            "2          beckycarr@hogan.com        2020-03-25     http://www.lawrence.com/   \n",
            "3  stanleyblackwell@benson.org        2020-06-02   http://www.good-lyons.com/   \n",
            "4      colinalvarado@miles.net        2021-04-17  https://goodwin-ingram.com/   \n",
            "5          louis27@gilbert.com        2020-02-25       http://www.berger.net/   \n",
            "6          tgates@cantrell.com        2021-08-24          https://www.le.com/   \n",
            "7              asnow@colon.com        2021-04-12  https://hammond-ramsey.com/   \n",
            "\n",
            "    age  score    salary    balance  \n",
            "0  10.0   12.0  222444.0   122222.0  \n",
            "1  20.0   33.0  750000.0   333333.0  \n",
            "2  40.0   44.0   52512.0   444444.0  \n",
            "3  12.0   55.0  444525.0   555555.0  \n",
            "4  24.0   66.0  445554.0  7777777.0  \n",
            "5  43.0   77.0  555552.0   666666.0  \n",
            "6  45.0   88.0   25555.0   777777.0  \n",
            "7  11.0   33.0  222224.0   777777.0  \n"
          ]
        }
      ]
    },
    {
      "cell_type": "code",
      "source": [
        "sorted=data.sort_values(['score'],ascending=0);"
      ],
      "metadata": {
        "id": "oTacC4waW2nw"
      },
      "execution_count": null,
      "outputs": []
    },
    {
      "cell_type": "code",
      "source": [
        "print(sorted.head(15))"
      ],
      "metadata": {
        "colab": {
          "base_uri": "https://localhost:8080/"
        },
        "id": "KrIMkyEvSO2L",
        "outputId": "01b4b4e7-cb33-48e5-a501-916d4e5bcb7f"
      },
      "execution_count": null,
      "outputs": [
        {
          "output_type": "stream",
          "name": "stdout",
          "text": [
            "    Index  Customer Id First Name Last Name                          Company  \\\n",
            "6     7.0          7.0     Darren      Peck     Lester, Woodard and Mitchell   \n",
            "5     6.0          6.0      Aimee     Downs                     Steele Group   \n",
            "4     5.0          5.0     Joanna    Bender         Martin, Lang and Andrade   \n",
            "3     4.0          4.0      Linda     Olsen  Dominguez, Mcmillan and Donovan   \n",
            "2     3.0          3.0        Roy     Berry                    Murillo-Perry   \n",
            "1     2.0          2.0    Preston    Lozano                      Vega-Gentry   \n",
            "7     8.0          8.0      Brett    Mullen     Sanford, Davenport and Giles   \n",
            "8     9.0          9.0     Sheryl    Meyers                   Browning-Simon   \n",
            "0     1.0          1.0     Sheryl    Baxter                  Rasmussen Group   \n",
            "9     NaN          NaN        NaN       NaN                              NaN   \n",
            "10    NaN          NaN        NaN       NaN                              NaN   \n",
            "11    NaN          NaN        NaN       NaN                              NaN   \n",
            "12    NaN          NaN        NaN       NaN                              NaN   \n",
            "\n",
            "                 City                     Country       Phone 1  \\\n",
            "6            Lake Ana            Pitcairn Islands  6.910659e+09   \n",
            "5       Chavezborough      Bosnia and Herzegovina  6.910659e+09   \n",
            "4      West Priscilla  Slovakia (Slovak Republic)  6.910659e+09   \n",
            "3          Bensonview          Dominican Republic  6.910659e+09   \n",
            "2       Isabelborough         Antigua and Barbuda  6.910659e+09   \n",
            "1   East Jimmychester                    Djibouti  9.904450e+09   \n",
            "7             Kimport                    Bulgaria  6.910659e+09   \n",
            "8        Robersonstad                      Cyprus  6.910659e+09   \n",
            "0        East Leonard                       Chile  6.355806e+09   \n",
            "9                 NaN                         NaN           NaN   \n",
            "10                NaN                         NaN           NaN   \n",
            "11                NaN                         NaN           NaN   \n",
            "12                NaN                         NaN  7.500000e+05   \n",
            "\n",
            "                          Email Subscription Date  \\\n",
            "6           tgates@cantrell.com        2021-08-24   \n",
            "5           louis27@gilbert.com        2020-02-25   \n",
            "4       colinalvarado@miles.net        2021-04-17   \n",
            "3   stanleyblackwell@benson.org        2020-06-02   \n",
            "2           beckycarr@hogan.com        2020-03-25   \n",
            "1               vmata@colon.com        2021-04-23   \n",
            "7               asnow@colon.com        2021-04-12   \n",
            "8                           NaN        2020-01-13   \n",
            "0      zunigavanessa@smith.info        2020-08-24   \n",
            "9                           NaN               NaN   \n",
            "10                          NaN               NaN   \n",
            "11                          NaN               NaN   \n",
            "12                          NaN               NaN   \n",
            "\n",
            "                        Website   age  score    salary    balance  \n",
            "6           https://www.le.com/  45.0   88.0   25555.0   777777.0  \n",
            "5        http://www.berger.net/  43.0   77.0  555552.0   666666.0  \n",
            "4   https://goodwin-ingram.com/  24.0   66.0  445554.0  7777777.0  \n",
            "3    http://www.good-lyons.com/  12.0   55.0  444525.0   555555.0  \n",
            "2      http://www.lawrence.com/  40.0   44.0   52512.0   444444.0  \n",
            "1         http://www.hobbs.com/  20.0   33.0  750000.0   333333.0  \n",
            "7   https://hammond-ramsey.com/  11.0   33.0  222224.0   777777.0  \n",
            "8      https://www.bullock.net/  43.0   33.0  555555.0   777777.0  \n",
            "0    http://www.stephenson.com/  10.0   12.0  222444.0   122222.0  \n",
            "9                           NaN   NaN    NaN       NaN        NaN  \n",
            "10                          NaN   NaN    NaN       NaN        NaN  \n",
            "11                          NaN   NaN    NaN       NaN        NaN  \n",
            "12                          NaN   NaN    NaN       NaN        NaN  \n"
          ]
        }
      ]
    },
    {
      "cell_type": "code",
      "source": [
        "import pandas as pd\n",
        "import numpy as np\n",
        "import matplotlib.pyplot as plt"
      ],
      "metadata": {
        "id": "ngXZdNtQV1X5"
      },
      "execution_count": null,
      "outputs": []
    },
    {
      "cell_type": "code",
      "source": [
        "# Plot a simple line chart for two columns\n",
        "plt.plot(sorted['score'], label='score ')\n",
        "plt.plot(sorted['salary'], label='salary')\n"
      ],
      "metadata": {
        "colab": {
          "base_uri": "https://localhost:8080/",
          "height": 447
        },
        "id": "5-vlRs3srl9_",
        "outputId": "064775ad-baeb-4754-ebc8-83dcbf24705e"
      },
      "execution_count": null,
      "outputs": [
        {
          "output_type": "execute_result",
          "data": {
            "text/plain": [
              "[<matplotlib.lines.Line2D at 0x79dd314a0290>]"
            ]
          },
          "metadata": {},
          "execution_count": 22
        },
        {
          "output_type": "display_data",
          "data": {
            "text/plain": [
              "<Figure size 640x480 with 1 Axes>"
            ],
            "image/png": "[encoded data removed]"
          },
          "metadata": {}
        }
      ]
    },
    {
      "cell_type": "code",
      "source": [
        "x1=np.array([10,29])\n",
        "\n",
        "colors=['red','black']\n",
        "plt.pie(x1,colors=colors)\n",
        "plt.show()\n",
        "\n"
      ],
      "metadata": {
        "colab": {
          "base_uri": "https://localhost:8080/",
          "height": 406
        },
        "id": "sy03Qb8Xt8Pe",
        "outputId": "83ce6b7c-3570-4cad-fa41-5c0e760539d9"
      },
      "execution_count": null,
      "outputs": [
        {
          "output_type": "display_data",
          "data": {
            "text/plain": [
              "<Figure size 640x480 with 1 Axes>"
            ],
            "image/png": "[encoded data removed]"
          },
          "metadata": {}
        }
      ]
    },
    {
      "cell_type": "code",
      "source": [
        "data=pd.read_csv(\"/content/drive/MyDrive/Ml-work--main/customers.csv\")\n",
        "print(data.head(10))\n",
        "high_salary_customers = data[data['salary'] > 750000]\n",
        "print(high_salary_customers)"
      ],
      "metadata": {
        "colab": {
          "base_uri": "https://localhost:8080/"
        },
        "id": "G-kSwTUbvSsB",
        "outputId": "31822fbe-81ce-4db4-a3a2-6b4043aa603d"
      },
      "execution_count": null,
      "outputs": [
        {
          "output_type": "stream",
          "name": "stdout",
          "text": [
            "   Index  Customer Id First Name Last Name                          Company  \\\n",
            "0    1.0          1.0     Sheryl    Baxter                  Rasmussen Group   \n",
            "1    2.0          2.0    Preston    Lozano                      Vega-Gentry   \n",
            "2    3.0          3.0        Roy     Berry                    Murillo-Perry   \n",
            "3    4.0          4.0      Linda     Olsen  Dominguez, Mcmillan and Donovan   \n",
            "4    5.0          5.0     Joanna    Bender         Martin, Lang and Andrade   \n",
            "5    6.0          6.0      Aimee     Downs                     Steele Group   \n",
            "6    7.0          7.0     Darren      Peck     Lester, Woodard and Mitchell   \n",
            "7    8.0          8.0      Brett    Mullen     Sanford, Davenport and Giles   \n",
            "8    9.0          9.0     Sheryl    Meyers                   Browning-Simon   \n",
            "9    NaN          NaN        NaN       NaN                              NaN   \n",
            "\n",
            "                City                     Country       Phone 1  \\\n",
            "0       East Leonard                       Chile  6.355806e+09   \n",
            "1  East Jimmychester                    Djibouti  9.904450e+09   \n",
            "2      Isabelborough         Antigua and Barbuda  6.910659e+09   \n",
            "3         Bensonview          Dominican Republic  6.910659e+09   \n",
            "4     West Priscilla  Slovakia (Slovak Republic)  6.910659e+09   \n",
            "5      Chavezborough      Bosnia and Herzegovina  6.910659e+09   \n",
            "6           Lake Ana            Pitcairn Islands  6.910659e+09   \n",
            "7            Kimport                    Bulgaria  6.910659e+09   \n",
            "8       Robersonstad                      Cyprus  6.910659e+09   \n",
            "9                NaN                         NaN           NaN   \n",
            "\n",
            "                         Email Subscription Date                      Website  \\\n",
            "0     zunigavanessa@smith.info        2020-08-24   http://www.stephenson.com/   \n",
            "1              vmata@colon.com        2021-04-23        http://www.hobbs.com/   \n",
            "2          beckycarr@hogan.com        2020-03-25     http://www.lawrence.com/   \n",
            "3  stanleyblackwell@benson.org        2020-06-02   http://www.good-lyons.com/   \n",
            "4      colinalvarado@miles.net        2021-04-17  https://goodwin-ingram.com/   \n",
            "5          louis27@gilbert.com        2020-02-25       http://www.berger.net/   \n",
            "6          tgates@cantrell.com        2021-08-24          https://www.le.com/   \n",
            "7              asnow@colon.com        2021-04-12  https://hammond-ramsey.com/   \n",
            "8                          NaN        2020-01-13     https://www.bullock.net/   \n",
            "9                          NaN               NaN                          NaN   \n",
            "\n",
            "    age  score    salary    balance  \n",
            "0  10.0   12.0  222444.0   122222.0  \n",
            "1  20.0   33.0  750000.0   333333.0  \n",
            "2  40.0   44.0   52512.0   444444.0  \n",
            "3  12.0   55.0  444525.0   555555.0  \n",
            "4  24.0   66.0  445554.0  7777777.0  \n",
            "5  43.0   77.0  555552.0   666666.0  \n",
            "6  45.0   88.0   25555.0   777777.0  \n",
            "7  11.0   33.0  222224.0   777777.0  \n",
            "8  43.0   33.0  555555.0   777777.0  \n",
            "9   NaN    NaN       NaN        NaN  \n",
            "Empty DataFrame\n",
            "Columns: [Index, Customer Id, First Name, Last Name, Company, City, Country, Phone 1, Email, Subscription Date, Website, age, score, salary, balance]\n",
            "Index: []\n"
          ]
        }
      ]
    },
    {
      "cell_type": "code",
      "source": [
        "data=pd.read_csv(\"/content/drive/MyDrive/Ml-work--main/customers.csv\")\n",
        "min_balance = data['balance'].min()\n",
        "median_balance = data['balance'].median()\n",
        "print(f\"Minimum Balance: {min_balance}\")\n",
        "print(f\"Median Balance: {median_balance}\")"
      ],
      "metadata": {
        "colab": {
          "base_uri": "https://localhost:8080/"
        },
        "id": "2RNpfjrZzu-u",
        "outputId": "d18f46c2-81c4-460c-d423-7fef00ec3985"
      },
      "execution_count": null,
      "outputs": [
        {
          "output_type": "stream",
          "name": "stdout",
          "text": [
            "Minimum Balance: 122222.0\n",
            "Median Balance: 666666.0\n"
          ]
        }
      ]
    },
    {
      "cell_type": "code",
      "source": [
        "a=([10,20])\n",
        "b=([30,40])\n",
        "plt.scatter(a,b,color=' ')\n",
        "plt.show()"
      ],
      "metadata": {
        "colab": {
          "base_uri": "https://localhost:8080/",
          "height": 430
        },
        "id": "T3Nubysz1IRL",
        "outputId": "801e8111-1990-40ce-c817-cf1604c7aa4f"
      },
      "execution_count": 42,
      "outputs": [
        {
          "output_type": "display_data",
          "data": {
            "text/plain": [
              "<Figure size 640x480 with 1 Axes>"
            ],
            "image/png": "[encoded data removed]"
          },
          "metadata": {}
        }
      ]
    },
    {
      "cell_type": "code",
      "source": [
        ""
      ],
      "metadata": {
        "id": "1OT7eOJN2msD"
      },
      "execution_count": null,
      "outputs": []
    }
  ]
}