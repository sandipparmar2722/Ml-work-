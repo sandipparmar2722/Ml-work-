{
 "cells": [
  {
   "cell_type": "code",
   "execution_count": 1,
   "id": "2dec151e",
   "metadata": {},
   "outputs": [],
   "source": [
    "import pandas as pd "
   ]
  },
  {
   "cell_type": "code",
   "execution_count": 12,
   "id": "4f51e040",
   "metadata": {},
   "outputs": [
    {
     "name": "stdout",
     "output_type": "stream",
     "text": [
      "   Index  Customer Id First Name Last Name                          Company  \\\n",
      "0      1            1     Sheryl    Baxter                  Rasmussen Group   \n",
      "1      2            2    Preston    Lozano                      Vega-Gentry   \n",
      "2      3            3        Roy     Berry                    Murillo-Perry   \n",
      "3      4            4      Linda     Olsen  Dominguez, Mcmillan and Donovan   \n",
      "4      5            5     Joanna    Bender         Martin, Lang and Andrade   \n",
      "5      6            6      Aimee     Downs                     Steele Group   \n",
      "6      7            7     Darren      Peck     Lester, Woodard and Mitchell   \n",
      "7      8            8      Brett    Mullen     Sanford, Davenport and Giles   \n",
      "8      9            9     Sheryl    Meyers                   Browning-Simon   \n",
      "\n",
      "                City                     Country     Phone 1  \\\n",
      "0       East Leonard                       Chile  6355806132   \n",
      "1  East Jimmychester                    Djibouti  9904450457   \n",
      "2      Isabelborough         Antigua and Barbuda  6910659254   \n",
      "3         Bensonview          Dominican Republic  6910659254   \n",
      "4     West Priscilla  Slovakia (Slovak Republic)  6910659255   \n",
      "5      Chavezborough      Bosnia and Herzegovina  6910659256   \n",
      "6           Lake Ana            Pitcairn Islands  6910659257   \n",
      "7            Kimport                    Bulgaria  6910659258   \n",
      "8       Robersonstad                      Cyprus  6910659259   \n",
      "\n",
      "                         Email Subscription Date                      Website  \\\n",
      "0     zunigavanessa@smith.info        2020-08-24   http://www.stephenson.com/   \n",
      "1              vmata@colon.com        2021-04-23        http://www.hobbs.com/   \n",
      "2          beckycarr@hogan.com        2020-03-25     http://www.lawrence.com/   \n",
      "3  stanleyblackwell@benson.org        2020-06-02   http://www.good-lyons.com/   \n",
      "4      colinalvarado@miles.net        2021-04-17  https://goodwin-ingram.com/   \n",
      "5          louis27@gilbert.com        2020-02-25       http://www.berger.net/   \n",
      "6          tgates@cantrell.com        2021-08-24          https://www.le.com/   \n",
      "7              asnow@colon.com        2021-04-12  https://hammond-ramsey.com/   \n",
      "8                          NaN        2020-01-13     https://www.bullock.net/   \n",
      "\n",
      "   age  score  salary  balance  \n",
      "0   10     12  222444   122222  \n",
      "1   20     33  750000   333333  \n",
      "2   40     44   52512   444444  \n",
      "3   12     55  444525   555555  \n",
      "4   24     66  445554  7777777  \n",
      "5   43     77  555552   666666  \n",
      "6   45     88   25555   777777  \n",
      "7   11     33  222224   777777  \n",
      "8   43     33  555555   777777  \n"
     ]
    }
   ],
   "source": [
    "data=pd.read_csv(\"customers.csv\")\n",
    "print(data.head(10))"
   ]
  },
  {
   "cell_type": "code",
   "execution_count": 16,
   "id": "9dbbb34d",
   "metadata": {},
   "outputs": [
    {
     "name": "stdout",
     "output_type": "stream",
     "text": [
      "   Index  Customer Id First Name Last Name                          Company  \\\n",
      "0      1            1     Sheryl    Baxter                  Rasmussen Group   \n",
      "7      8            8      Brett    Mullen     Sanford, Davenport and Giles   \n",
      "3      4            4      Linda     Olsen  Dominguez, Mcmillan and Donovan   \n",
      "1      2            2    Preston    Lozano                      Vega-Gentry   \n",
      "4      5            5     Joanna    Bender         Martin, Lang and Andrade   \n",
      "2      3            3        Roy     Berry                    Murillo-Perry   \n",
      "5      6            6      Aimee     Downs                     Steele Group   \n",
      "8      9            9     Sheryl    Meyers                   Browning-Simon   \n",
      "6      7            7     Darren      Peck     Lester, Woodard and Mitchell   \n",
      "\n",
      "                City                     Country     Phone 1  \\\n",
      "0       East Leonard                       Chile  6355806132   \n",
      "7            Kimport                    Bulgaria  6910659258   \n",
      "3         Bensonview          Dominican Republic  6910659254   \n",
      "1  East Jimmychester                    Djibouti  9904450457   \n",
      "4     West Priscilla  Slovakia (Slovak Republic)  6910659255   \n",
      "2      Isabelborough         Antigua and Barbuda  6910659254   \n",
      "5      Chavezborough      Bosnia and Herzegovina  6910659256   \n",
      "8       Robersonstad                      Cyprus  6910659259   \n",
      "6           Lake Ana            Pitcairn Islands  6910659257   \n",
      "\n",
      "                         Email Subscription Date                      Website  \\\n",
      "0     zunigavanessa@smith.info        2020-08-24   http://www.stephenson.com/   \n",
      "7              asnow@colon.com        2021-04-12  https://hammond-ramsey.com/   \n",
      "3  stanleyblackwell@benson.org        2020-06-02   http://www.good-lyons.com/   \n",
      "1              vmata@colon.com        2021-04-23        http://www.hobbs.com/   \n",
      "4      colinalvarado@miles.net        2021-04-17  https://goodwin-ingram.com/   \n",
      "2          beckycarr@hogan.com        2020-03-25     http://www.lawrence.com/   \n",
      "5          louis27@gilbert.com        2020-02-25       http://www.berger.net/   \n",
      "8                          NaN        2020-01-13     https://www.bullock.net/   \n",
      "6          tgates@cantrell.com        2021-08-24          https://www.le.com/   \n",
      "\n",
      "   age  score  salary  balance  \n",
      "0   10     12  222444   122222  \n",
      "7   11     33  222224   777777  \n",
      "3   12     55  444525   555555  \n",
      "1   20     33  750000   333333  \n",
      "4   24     66  445554  7777777  \n",
      "2   40     44   52512   444444  \n",
      "5   43     77  555552   666666  \n",
      "8   43     33  555555   777777  \n",
      "6   45     88   25555   777777  \n"
     ]
    }
   ],
   "source": [
    "sorteds=data.sort_values(['age'],ascending=1)\n",
    "print(sorteds)"
   ]
  },
  {
   "cell_type": "code",
   "execution_count": 17,
   "id": "8dfd0a7f",
   "metadata": {},
   "outputs": [
    {
     "name": "stdout",
     "output_type": "stream",
     "text": [
      "   Index  Customer Id First Name Last Name                          Company  \\\n",
      "0      1            1     Sheryl    Baxter                  Rasmussen Group   \n",
      "1      2            2    Preston    Lozano                      Vega-Gentry   \n",
      "2      3            3        Roy     Berry                    Murillo-Perry   \n",
      "3      4            4      Linda     Olsen  Dominguez, Mcmillan and Donovan   \n",
      "4      5            5     Joanna    Bender         Martin, Lang and Andrade   \n",
      "5      6            6      Aimee     Downs                     Steele Group   \n",
      "6      7            7     Darren      Peck     Lester, Woodard and Mitchell   \n",
      "7      8            8      Brett    Mullen     Sanford, Davenport and Giles   \n",
      "\n",
      "                City                     Country     Phone 1  \\\n",
      "0       East Leonard                       Chile  6355806132   \n",
      "1  East Jimmychester                    Djibouti  9904450457   \n",
      "2      Isabelborough         Antigua and Barbuda  6910659254   \n",
      "3         Bensonview          Dominican Republic  6910659254   \n",
      "4     West Priscilla  Slovakia (Slovak Republic)  6910659255   \n",
      "5      Chavezborough      Bosnia and Herzegovina  6910659256   \n",
      "6           Lake Ana            Pitcairn Islands  6910659257   \n",
      "7            Kimport                    Bulgaria  6910659258   \n",
      "\n",
      "                         Email Subscription Date                      Website  \\\n",
      "0     zunigavanessa@smith.info        2020-08-24   http://www.stephenson.com/   \n",
      "1              vmata@colon.com        2021-04-23        http://www.hobbs.com/   \n",
      "2          beckycarr@hogan.com        2020-03-25     http://www.lawrence.com/   \n",
      "3  stanleyblackwell@benson.org        2020-06-02   http://www.good-lyons.com/   \n",
      "4      colinalvarado@miles.net        2021-04-17  https://goodwin-ingram.com/   \n",
      "5          louis27@gilbert.com        2020-02-25       http://www.berger.net/   \n",
      "6          tgates@cantrell.com        2021-08-24          https://www.le.com/   \n",
      "7              asnow@colon.com        2021-04-12  https://hammond-ramsey.com/   \n",
      "\n",
      "   age  score  salary  balance  \n",
      "0   10     12  222444   122222  \n",
      "1   20     33  750000   333333  \n",
      "2   40     44   52512   444444  \n",
      "3   12     55  444525   555555  \n",
      "4   24     66  445554  7777777  \n",
      "5   43     77  555552   666666  \n",
      "6   45     88   25555   777777  \n",
      "7   11     33  222224   777777  \n"
     ]
    }
   ],
   "source": [
    "remove=data.dropna() #use for drop null values\n",
    "print(remove)\n"
   ]
  },
  {
   "cell_type": "code",
   "execution_count": 19,
   "id": "822be8c1",
   "metadata": {},
   "outputs": [
    {
     "name": "stderr",
     "output_type": "stream",
     "text": [
      "No artists with labels found to put in legend.  Note that artists whose label start with an underscore are ignored when legend() is called with no argument.\n"
     ]
    },
    {
     "data": {
      "image/png": "[encoded data removed]",
      "text/plain": [
       "<Figure size 432x288 with 1 Axes>"
      ]
     },
     "metadata": {
      "needs_background": "light"
     },
     "output_type": "display_data"
    }
   ],
   "source": [
    "import matplotlib.pyplot as plt\n",
    "\n",
    "# Sample data\n",
    "age = [22, 25, 28, 30, 35, 40, 45, 50]\n",
    "\n",
    "\n",
    "plt.plot(age,marker='o', linestyle='-', color='b',)\n",
    "\n",
    "# Adding title and labels\n",
    "\n",
    "plt.xlabel('Age')\n",
    "\n",
    "\n",
    "# Show legend\n",
    "plt.legend()\n",
    "\n",
    "# Display the plot\n",
    "plt.show()\n"
   ]
  },
  {
   "cell_type": "code",
   "execution_count": null,
   "id": "23f3adb4",
   "metadata": {},
   "outputs": [],
   "source": []
  },
  {
   "cell_type": "code",
   "execution_count": null,
   "id": "9c89657c",
   "metadata": {},
   "outputs": [],
   "source": []
  },
  {
   "cell_type": "code",
   "execution_count": null,
   "id": "a7bcea76",
   "metadata": {},
   "outputs": [],
   "source": []
  },
  {
   "cell_type": "code",
   "execution_count": null,
   "id": "24391dc1",
   "metadata": {},
   "outputs": [],
   "source": []
  },
  {
   "cell_type": "code",
   "execution_count": null,
   "id": "b221057d",
   "metadata": {},
   "outputs": [],
   "source": []
  },
  {
   "cell_type": "code",
   "execution_count": null,
   "id": "1a977c8a",
   "metadata": {},
   "outputs": [],
   "source": []
  },
  {
   "cell_type": "code",
   "execution_count": null,
   "id": "8cdaba3e",
   "metadata": {},
   "outputs": [],
   "source": [
    "\n"
   ]
  }
 ],
 "metadata": {
  "kernelspec": {
   "display_name": "Python 3 (ipykernel)",
   "language": "python",
   "name": "python3"
  },
  "language_info": {
   "codemirror_mode": {
    "name": "ipython",
    "version": 3
   },
   "file_extension": ".py",
   "mimetype": "text/x-python",
   "name": "python",
   "nbconvert_exporter": "python",
   "pygments_lexer": "ipython3",
   "version": "3.9.12"
  }
 },
 "nbformat": 4,
 "nbformat_minor": 5
}
